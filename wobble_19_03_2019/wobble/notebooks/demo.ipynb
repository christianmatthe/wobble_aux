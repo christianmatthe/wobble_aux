{
 "cells": [
  {
   "cell_type": "code",
   "execution_count": null,
   "metadata": {},
   "outputs": [],
   "source": [
    "import numpy as np\n",
    "import matplotlib.pyplot as plt\n",
    "import wobble"
   ]
  },
  {
   "cell_type": "code",
   "execution_count": null,
   "metadata": {},
   "outputs": [],
   "source": [
    "import matplotlib as mpl\n",
    "mpl.rcParams['xtick.labelsize'] = 12\n",
    "mpl.rcParams['ytick.labelsize'] = 12\n",
    "mpl.rcParams['axes.labelsize'] = 14\n",
    "mpl.rcParams['figure.figsize'] = (12.0, 4.0)"
   ]
  },
  {
   "cell_type": "markdown",
   "metadata": {},
   "source": [
    "#### You need data in a wobble-friendly format to load it in. See an example of this data munging here: [scripts/make_data.py](https://github.com/megbedell/wobble/blob/master/scripts/make_data.py).\n",
    "\n",
    "You can download example HARPS data files (and results files) to play around with linked in the [documentation](https://wobble.readthedocs.io/en/latest/quickstart.html#input-data).\n",
    "\n",
    "Here we'll assume that you have the data `51peg_e2ds.hdf5` saved in the `wobble/data` directory.\n",
    "\n",
    "By default, loading the data will load all echelle orders and all epochs in the data file; you can change this with the optional `orders` and `epochs` kwargs, which each take lists (or 1-d numpy arrays) of indices for the desired orders/epochs to load."
   ]
  },
  {
   "cell_type": "code",
   "execution_count": null,
   "metadata": {},
   "outputs": [],
   "source": [
    "data = wobble.Data('../data/51peg_e2ds.hdf5')"
   ]
  },
  {
   "cell_type": "markdown",
   "metadata": {},
   "source": [
    "Behind the scenes, we have also continuum normalized and masked out regions of bad data (negative flux values or very low SNR regions). You may want to take a look at the data to see how we did:"
   ]
  },
  {
   "cell_type": "code",
   "execution_count": null,
   "metadata": {},
   "outputs": [],
   "source": [
    "r = 0 # index of echelle order to plot\n",
    "n = 0 # index of epoch to plot\n",
    "plt.plot(data.xs[r][n], data.ys[r][n], 'k.', ms=6)\n",
    "mask = data.ivars[r][n] <= 1.e-8 # masked-out bad data\n",
    "plt.plot(data.xs[r][n][mask], data.ys[r][n][mask], 'w.', ms=4)\n",
    "plt.ylabel('ln(flux)')\n",
    "plt.xlabel('ln(wave)');"
   ]
  },
  {
   "cell_type": "markdown",
   "metadata": {},
   "source": [
    "#### Now let's create a results object in which to store the outputs of wobble:"
   ]
  },
  {
   "cell_type": "code",
   "execution_count": null,
   "metadata": {},
   "outputs": [],
   "source": [
    "results = wobble.Results(data=data)"
   ]
  },
  {
   "cell_type": "markdown",
   "metadata": {},
   "source": [
    "This object is not currently populated with useful information (because we haven't optimized anything yet!), but once it is we'll be able to save it with the `results.write('filename.hdf5')` function.\n",
    "\n",
    "A saved results file can be loaded as:\n",
    "```results = wobble.Results(filename='filename.hdf5')```"
   ]
  },
  {
   "cell_type": "markdown",
   "metadata": {},
   "source": [
    "### Here's a minimal example of optimizing a model consisting of a star and tellurics for a single order:"
   ]
  },
  {
   "cell_type": "code",
   "execution_count": null,
   "metadata": {},
   "outputs": [],
   "source": [
    "r = 67 # index into data.orders for the desired order\n",
    "model = wobble.Model(data, results, r)\n",
    "model.add_star('star')\n",
    "model.add_telluric('tellurics')\n",
    "wobble.optimize_order(model)"
   ]
  },
  {
   "cell_type": "markdown",
   "metadata": {},
   "source": [
    "The results have been automatically saved and we can now view them:"
   ]
  },
  {
   "cell_type": "code",
   "execution_count": null,
   "metadata": {},
   "outputs": [],
   "source": [
    "n = 40 # epoch to plot\n",
    "fig, (ax1, ax2) = plt.subplots(2, 1, gridspec_kw = {'height_ratios':[2, 1]}, \n",
    "                               sharex=True)\n",
    "\n",
    "ax1.plot(data.xs[r][n], data.ys[r][n], 'k.', ms=6)\n",
    "mask = data.ivars[r][n] <= 1.e-8 # masked-out bad data\n",
    "ax1.plot(data.xs[r][n][mask], data.ys[r][n][mask], 'w.', ms=4)\n",
    "ax1.plot(data.xs[r][n], results.star_ys_predicted[r][n], 'r')\n",
    "ax1.plot(data.xs[r][n], results.tellurics_ys_predicted[r][n], 'b')\n",
    "ax2.plot(data.xs[r][n], data.ys[r][n] - results.ys_predicted[r][n], 'k.', ms=6)\n",
    "ax2.plot(data.xs[r][n][mask], (data.ys[r][n] - results.ys_predicted[r][n])[mask], 'w.', ms=4)\n",
    "\n",
    "ax1.set_ylabel('ln(flux)')\n",
    "ax2.set_ylabel('residuals')\n",
    "#ax1.set_ylim([-0.2,0.1])\n",
    "ax2.set_ylim([-0.05,0.05])\n",
    "ax2.set_xlabel('ln(wave)');"
   ]
  },
  {
   "cell_type": "markdown",
   "metadata": {},
   "source": [
    "The residuals look good for the star but not great around the tellurics. Let's try running with variable tellurics."
   ]
  },
  {
   "cell_type": "code",
   "execution_count": null,
   "metadata": {},
   "outputs": [],
   "source": [
    "results2 = wobble.Results(data=data)\n",
    "model = wobble.Model(data, results2, r)\n",
    "model.add_star('star')\n",
    "model.add_telluric('tellurics', variable_bases=2)\n",
    "wobble.optimize_order(model)"
   ]
  },
  {
   "cell_type": "code",
   "execution_count": null,
   "metadata": {},
   "outputs": [],
   "source": [
    "fig, (ax1, ax2) = plt.subplots(2, 1, gridspec_kw = {'height_ratios':[2, 1]}, \n",
    "                               sharex=True)\n",
    "\n",
    "ax1.plot(data.xs[r][n], data.ys[r][n], 'k.', ms=6)\n",
    "mask = data.ivars[r][n] <= 1.e-8 # masked-out bad data\n",
    "ax1.plot(data.xs[r][n][mask], data.ys[r][n][mask], 'w.', ms=4)\n",
    "ax1.plot(data.xs[r][n], results2.star_ys_predicted[r][n], 'r')\n",
    "ax1.plot(data.xs[r][n], results2.tellurics_ys_predicted[r][n], 'b')\n",
    "ax2.plot(data.xs[r][n], data.ys[r][n] - results2.ys_predicted[r][n], 'k.', ms=6)\n",
    "ax2.plot(data.xs[r][n][mask], (data.ys[r][n] - results2.ys_predicted[r][n])[mask], 'w.', ms=4)\n",
    "\n",
    "ax1.set_ylabel('ln(flux)')\n",
    "ax2.set_ylabel('residuals')\n",
    "#ax1.set_ylim([-0.2,0.1])\n",
    "ax2.set_ylim([-0.05,0.05])\n",
    "ax2.set_xlabel('ln(wave)');"
   ]
  },
  {
   "cell_type": "markdown",
   "metadata": {},
   "source": [
    "Looks better! Here are the RVs for this single order. Once we run on all orders, we can combine the order-by-order velocities using `results.combine_orders('star')` and access the final (non-barycentric-corrected RVs as `results.star_time_rvs`."
   ]
  },
  {
   "cell_type": "code",
   "execution_count": null,
   "metadata": {},
   "outputs": [],
   "source": [
    "plt.errorbar(results2.dates, results2.star_rvs[r] + results2.bervs, \n",
    "             1./np.sqrt(results2.star_ivars_rvs[r]), \n",
    "             fmt='o', ms=5, elinewidth=1)\n",
    "plt.xlabel('JD')\n",
    "plt.ylabel(r'RV (m s$^{-1}$)')\n",
    "plt.xlim([2456505, 2456570]);"
   ]
  },
  {
   "cell_type": "markdown",
   "metadata": {},
   "source": [
    "### Further exercises:\n",
    "- run on all orders using the example on the [wobble quickstart page](https://wobble.readthedocs.io/en/latest/quickstart.html#running-wobble) or an example script (for many more figures) and look at the combined RVs\n",
    "- [optimize the regularization amplitudes](https://github.com/megbedell/wobble/blob/master/scripts/regularization.py) and rerun\n",
    "- check [the API](https://wobble.readthedocs.io/en/latest/api.html) and figure out what keywords to use if you want to:\n",
    "    - change the limitations on \"bad data\" (which pixels will get masked out when reading in the data)\n",
    "    - calculate uncertainties on the stellar template (warning: this will run slowly)\n",
    "    - give your own custom starting RV guess to a component"
   ]
  }
 ],
 "metadata": {
  "kernelspec": {
   "display_name": "Python 3",
   "language": "python",
   "name": "python3"
  },
  "language_info": {
   "codemirror_mode": {
    "name": "ipython",
    "version": 3
   },
   "file_extension": ".py",
   "mimetype": "text/x-python",
   "name": "python",
   "nbconvert_exporter": "python",
   "pygments_lexer": "ipython3",
   "version": "3.6.0"
  }
 },
 "nbformat": 4,
 "nbformat_minor": 2
}
